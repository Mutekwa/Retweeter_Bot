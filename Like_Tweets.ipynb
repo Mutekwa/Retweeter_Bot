{
 "cells": [
  {
   "cell_type": "code",
   "execution_count": 14,
   "id": "d5f0b62b",
   "metadata": {},
   "outputs": [],
   "source": [
    "#imports here\n",
    "from selenium import webdriver\n",
    "from selenium.webdriver.common.by import By\n",
    "import time\n",
    "import random"
   ]
  },
  {
   "cell_type": "code",
   "execution_count": 15,
   "id": "37d9cb74",
   "metadata": {},
   "outputs": [],
   "source": [
    "def random_wait(min, max):\n",
    "    #customize random wait time\n",
    "    seconds = random.randint(min,max)\n",
    "    time.sleep(seconds)"
   ]
  },
  {
   "cell_type": "code",
   "execution_count": 18,
   "id": "d10fd456",
   "metadata": {},
   "outputs": [],
   "source": [
    "def activate_bot(n_scrolls, keyword):\n",
    "    #open browser at Twitter\n",
    "    driver = webdriver.Chrome()\n",
    "    driver.get(\"https://twitter.com/i/flow/login\")\n",
    "\n",
    "    random_wait(4, 10)\n",
    "    #enter username\n",
    "    username = driver.find_element(By.XPATH, \"//input\")\n",
    "    username.send_keys(\"USERNAME\")\n",
    "    \n",
    "    #click on the \"next\" button\n",
    "    all_buttons = driver.find_elements(By.XPATH, \"//div[@role='button']\")\n",
    "    all_buttons[-2].click()\n",
    "\n",
    "    #enter password & login\n",
    "    random_wait(4, 5)\n",
    "    password = driver.find_element(By.XPATH, \"//input[@type='password']\")\n",
    "    password.send_keys(\"PASSWORD\")\n",
    "    \n",
    "    #click on the \"login\" button\n",
    "    all_buttons = driver.find_elements(By.XPATH, \"//div[@role='button']\")\n",
    "    all_buttons[-1].click()\n",
    "    \n",
    "    #search a keyword\n",
    "    random_wait(4, 6)\n",
    "    driver.get(\"https://twitter.com/search?q=\" + keyword + \"&src=typed_query&f=top\")\n",
    "\n",
    "    n_liked_posts = 0\n",
    "\n",
    "    for scroll in range(n_scrolls):   \n",
    "        #scroll with javascript\n",
    "        driver.execute_script(\"window.scrollTo(0, document.body.scrollHeight);\")\n",
    "        random_wait(4, 9)  \n",
    "\n",
    "        #fetch posts to like\n",
    "        likes = driver.find_elements(By.XPATH, \"//div[contains(@aria-label, 'Like')]\")\n",
    "        print(\"fetched\", len(likes) , \"posts to like\")\n",
    "        n_liked_posts += len(likes)\n",
    "\n",
    "        #like all posts\n",
    "        for idx, val in enumerate(likes):\n",
    "            random_wait(4, 8)\n",
    "            driver.execute_script(\"arguments[0].click();\", likes[idx])\n",
    "\n",
    "    print(\"bot is done.\")\n",
    "    print(\"total number of liked posts:\", n_liked_posts)"
   ]
  },
  {
   "cell_type": "code",
   "execution_count": 19,
   "id": "7507e286",
   "metadata": {},
   "outputs": [
    {
     "name": "stdout",
     "output_type": "stream",
     "text": [
      "fetched 3 posts to like\n",
      "fetched 6 posts to like\n",
      "fetched 7 posts to like\n",
      "bot is done.\n",
      "total number of liked posts: 16\n"
     ]
    }
   ],
   "source": [
    "activate_bot(3, \"Python\")"
   ]
  },
  {
   "cell_type": "code",
   "execution_count": null,
   "id": "7b45646e",
   "metadata": {},
   "outputs": [],
   "source": []
  }
 ],
 "metadata": {
  "kernelspec": {
   "display_name": "Python 3 (ipykernel)",
   "language": "python",
   "name": "python3"
  },
  "language_info": {
   "codemirror_mode": {
    "name": "ipython",
    "version": 3
   },
   "file_extension": ".py",
   "mimetype": "text/x-python",
   "name": "python",
   "nbconvert_exporter": "python",
   "pygments_lexer": "ipython3",
   "version": "3.9.12"
  }
 },
 "nbformat": 4,
 "nbformat_minor": 5
}
